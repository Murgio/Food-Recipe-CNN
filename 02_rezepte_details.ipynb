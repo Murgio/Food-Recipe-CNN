{
 "cells": [
  {
   "cell_type": "markdown",
   "metadata": {},
   "source": [
    "# [Chefkoch.de](http://www.chefkoch.de/)\n",
    "------\n",
    "\n",
    "## Ziel: \n",
    "### Scraping der Hauptrezeptesammlung von über 300'000 verschiedenen Rezepten (2.Teil)"
   ]
  },
  {
   "cell_type": "code",
   "execution_count": 1,
   "metadata": {},
   "outputs": [],
   "source": [
    "import datetime as dt\n",
    "import csv\n",
    "from bs4 import BeautifulSoup\n",
    "from lxml import html\n",
    "from datetime import datetime\n",
    "from multiprocessing import Pool\n",
    "from random import uniform, choice\n",
    "from time import sleep, time\n",
    "import requests\n",
    "import os.path\n",
    "import re\n",
    "import os\n",
    "from tqdm import tqdm"
   ]
  },
  {
   "cell_type": "code",
   "execution_count": 2,
   "metadata": {},
   "outputs": [],
   "source": [
    "DATAST_FOLDER = 'input/test/'\n",
    "IMGS_FOLDER  = 'input/images/search_thumbnails/'\n",
    "DFILE_NAME    = 'recipe_details_' + dt.datetime.now().strftime('%d-%m-%Y') + '.csv'\n",
    "PIC_LIST      = 'pic_list_' + dt.datetime.now().strftime('%d-%m-%Y') + '.csv'"
   ]
  },
  {
   "cell_type": "markdown",
   "metadata": {},
   "source": [
    "#### Diesmal ist das Ziel die Zutatenliste, die Zubereitung, die Tags und alle Bilder jedes einzelnen Rezeptes zu laden.\n",
    "这次的目标是加载成分列表、准备、标签和每个单独食谱的所有图片\n",
    "### Beispiel:"
   ]
  },
  {
   "cell_type": "code",
   "execution_count": null,
   "metadata": {},
   "outputs": [],
   "source": [
    "from IPython.display import Image\n",
    "PATH = \"/Users/shu/Desktop/xyu_gatech/Food-Recipe-CNN/\"\n",
    "Image(filename = PATH + \"dPO2Ot8.png\", width='100%', height=140)"
   ]
  },
  {
   "cell_type": "markdown",
   "metadata": {},
   "source": [
    "Dieses Rezept hat die Tags **Backen** und **Brot oder Brötchen**.\n",
    "Ausserdem hat es 31 weitere Bilder die wir noch brauchen."
   ]
  },
  {
   "cell_type": "code",
   "execution_count": 3,
   "metadata": {},
   "outputs": [],
   "source": [
    "def get_list_of_recipes():\n",
    "    recipe_links = []\n",
    "    chef_file = DATAST_FOLDER + 'chefkoch_rezepte_27-12-2017.csv'\n",
    "    with open(chef_file, 'r') as f:\n",
    "        chefkoch = csv.reader(f)\n",
    "        for row in chefkoch:\n",
    "            try:\n",
    "                recipe_links.append(row[-2])\n",
    "            except: \n",
    "                continue \n",
    "    return(recipe_links)\n",
    "\n",
    "def get_list_of_scraped_recipes():\n",
    "    recipe_links = []\n",
    "    recipes_file = DATAST_FOLDER + DFILE_NAME\n",
    "    if os.path.isfile(recipes_file):\n",
    "        with open(recipes_file, 'r') as f:\n",
    "            chefkoch = csv.reader(f)\n",
    "            for row in chefkoch:\n",
    "                try:\n",
    "                    recipe_links.append(row[0])\n",
    "                except: \n",
    "                    continue\n",
    "    return(recipe_links)\n",
    "\n",
    "def list_to_scrape():\n",
    "    print('AUFGERUFEN')\n",
    "    l_scraped = get_list_of_scraped_recipes()\n",
    "    l_all     = get_list_of_recipes()\n",
    "    \n",
    "    l_to_scrape = list(set(l_all) - set(l_scraped))\n",
    "    print('Difference of sets:', len(l_to_scrape))\n",
    "    \n",
    "    return(l_to_scrape)"
   ]
  },
  {
   "cell_type": "code",
   "execution_count": 86,
   "metadata": {},
   "outputs": [
    {
     "data": {
      "text/plain": [
       "316768"
      ]
     },
     "execution_count": 86,
     "metadata": {},
     "output_type": "execute_result"
    }
   ],
   "source": [
    "#recipe_links = list_to_scrape()\n",
    "recipe_links =get_list_of_recipes()\n",
    "len(recipe_links)"
   ]
  },
  {
   "cell_type": "code",
   "execution_count": 74,
   "metadata": {},
   "outputs": [],
   "source": [
    "def write_recipe_details(data):\n",
    "    dpath = DATAST_FOLDER + DFILE_NAME\n",
    "    with open(dpath, 'a', newline='') as f:\n",
    "        writer = csv.writer(f)\n",
    "        try:\n",
    "            writer.writerow((data['link'],\n",
    "                             data['ingredients'],\n",
    "                             data['zubereitung'],\n",
    "                             data['tags'],\n",
    "                             data['n_pics']\n",
    "                             #data['reviews'],\n",
    "                             #data['gespeichert:'],\n",
    "                             #data['Freischaltung:'],\n",
    "                             #data['author_registration_date'],\n",
    "                             #data['author_reviews']\n",
    "                            ))\n",
    "        except:\n",
    "            writer.writerow('')"
   ]
  },
  {
   "cell_type": "markdown",
   "metadata": {},
   "source": [
    "### Die Links zu den Bildern werden in einer Liste gespeichert und seperat runtergeladen.\n",
    "图像的链接保存在列表中并单独下载"
   ]
  },
  {
   "cell_type": "code",
   "execution_count": 58,
   "metadata": {},
   "outputs": [],
   "source": [
    "def write_picture_list(pics):\n",
    "    dpath = DATAST_FOLDER + PIC_LIST\n",
    "    with open(dpath, 'a', newline='') as f:  #, newline=''\n",
    "        writer = csv.writer(f)\n",
    "        try:\n",
    "            writer.writerow(pics)\n",
    "        except:\n",
    "            writer.writerow('')"
   ]
  },
  {
   "cell_type": "code",
   "execution_count": 59,
   "metadata": {},
   "outputs": [],
   "source": [
    "# def get_stats(soup):\n",
    "#     stats = {}\n",
    "#     # DROPPED\n",
    "#     # anzahl bewertungen\n",
    "#     reviews = soup.find('div', id=\"recipe__rating\").find('span', class_ = \"rating__total-votes m-r-s\").text\n",
    "#     #stats['reviews'] = reviews\n",
    "    \n",
    "#     # andere statistiken\n",
    "#     if reviews != '(0)':\n",
    "#         stats_table = soup.find('div', id=\"recipe-statistic\").find_all('table')[1].find_all('tr')[1:5]\n",
    "#     else:\n",
    "#         stats_table = soup.find('div', id=\"recipe-statistic\").find_all('table')[0].find_all('tr')[1:5]\n",
    "        \n",
    "#     for tr in stats_table:\n",
    "#         stat_name  = tr.find_all('td')[0].text.strip()\n",
    "#         stat_value = tr.find_all('td')a[1].text.strip().split(' ')[0]\n",
    "#         stats[stat_name] = stat_value\n",
    "#     return(stats)\n",
    "\n",
    "# def get_n_pictures(html_text):\n",
    "#     tree = html.fromstring(html_text)\n",
    "#     # alle bilder links\n",
    "#     links_pics = tree.xpath('//div')\n",
    "#     links_pics = tree.xpath('//div[contains(@id, \"slider\")]//img[@class=\"slideshow-image lazyload\"]/@src')\n",
    "#     return links_pics\n",
    "\n",
    "# def get_zubereitung(soup):\n",
    "#     zuber = soup.find('div', id=\"rezept-zubereitung\").text.strip()\n",
    "#     zuber = zuber.replace('\\n', ' ').replace('\\r', '')\n",
    "#     return zuber\n",
    "\n",
    "# def get_ingredients(soup):\n",
    "#     # liste von zubereitungen\n",
    "#     ingredient_list = []\n",
    "#     amounts_ingredients = soup.find('table', class_=\"incredients\").find_all('tr')\n",
    "    \n",
    "#     for tr in amounts_ingredients:\n",
    "#         am = tr.find_all('td')[0].text.strip() # amount\n",
    "#         td = tr.find_all('td')[1].text.strip().split(',')[0] # ingredient\n",
    "#         td = re.sub('\\(.*?\\)','', td)\n",
    "#         ingr = am + '@' + td\n",
    "#         ingredient_list.append(ingr)\n",
    "        \n",
    "#     return(str.join(',', ingredient_list))\n",
    "\n",
    "# def get_tags(soup):\n",
    "#     tags = []\n",
    "#     tag_cloud = soup.find('ul', class_ = 'tagcloud').find_all('li')\n",
    "#     for li in tag_cloud:\n",
    "#         tags.append(li.find('a').text.strip())\n",
    "        \n",
    "#     return(str.join(',', tags))\n",
    "\n",
    "# # DROPPED\n",
    "# #def get_author_info(soup):\n",
    "# #    author = {}\n",
    "# #    author['author_registration_date'] = soup.find('div', class_=\"user-details\").find('p').find('br').previous_sibling.strip()\n",
    "# #    author['author_reviews'] = soup.find('div', class_=\"user-details\").find('p').find('br').next_sibling.strip()\n",
    "# #    return(author)"
   ]
  },
  {
   "cell_type": "code",
   "execution_count": 160,
   "metadata": {},
   "outputs": [],
   "source": [
    "def get_stats(soup):\n",
    "    stats = {}\n",
    "    # DROPPED\n",
    "    # anzahl bewertungen\n",
    "    reviews = soup.find(\"div\",class_=\"ds-box\") [-14].text.strip()\n",
    "    #stats['reviews'] = reviews\n",
    "    \n",
    "    # andere statistiken\n",
    "    if reviews != '(0)':\n",
    "        stats_table = soup.find('div', id=\"recipe-statistic\").find_all('table')[1].find_all('tr')[1:5]\n",
    "    else:\n",
    "        stats_table = soup.find('div', id=\"recipe-statistic\").find_all('table')[0].find_all('tr')[1:5]\n",
    "        \n",
    "    for tr in stats_table:\n",
    "        stat_name  = tr.find_all('td')[0].text.strip()\n",
    "        stat_value = tr.find_all('td')[1].text.strip().split(' ')[0]\n",
    "        stats[stat_name] = stat_value\n",
    "    return(stats)\n",
    "\n",
    "def get_n_pictures(soup):\n",
    "#     tree = html.fromstring(html_text)\n",
    "    # alle bilder links\n",
    "#     links_pics = tree.xpath(\n",
    "#         '//div[contains(@class,\"ds-mb-left recipe-image\")] \\\n",
    "#         //img[@class=\"i-amphtmI-fill-content i-amphtmi-replaced-content\"]/@src')\n",
    "#     links_pics = tree.xpath('//div')\n",
    "#     links_pics = tree.xpath('//div[contains(@id, \"slider\")]//img[@class=\"slideshow-image lazyload\"]/@src')\n",
    "    images = []\n",
    "    for img in soup.findAll('img'):\n",
    "        images.append(img.get('src'))\n",
    "    if images[-1]=='https://img.chefkoch-cdn.de/img/default/layout/recipe-nopicture.jpg':\n",
    "        return []\n",
    "    return [images[-1]]\n",
    "\n",
    "def get_zubereitung(soup):\n",
    "    zuber = soup.find_all(\"div\",class_=\"ds-box\") [-14].text.strip()\n",
    "    zuber = zuber.replace('\\n', ' ').replace('\\r', '')\n",
    "    return zuber\n",
    "\n",
    "def get_ingredients(soup):\n",
    "    # liste von zubereitungen\n",
    "    ingredient_list = []\n",
    "    amounts_ingredients = soup.find('table', class_=\"ingredients table-header\").find_all('tr')\n",
    "\n",
    "    for tr in amounts_ingredients:\n",
    "        am = tr.find_all('td')[0].text.strip().replace(\" \",\"\")  # amount\n",
    "        td = tr.find_all('td')[1].text.strip().split(',')[0] # ingredient\n",
    "        td = re.sub('\\(.*?\\)','', td)\n",
    "        ingr = am + '@' + td\n",
    "        ingredient_list.append(ingr)\n",
    "        \n",
    "    return(str.join(',', ingredient_list))\n",
    "\n",
    "def get_tags(soup):\n",
    "    tags = []\n",
    "    tag_cloud = soup.find('ul', class_ = \"r-nav-box r-std\").find_all('li')\n",
    "    for li in tag_cloud:\n",
    "        tags.append(li.find('a').text.strip())\n",
    "        \n",
    "    return(str.join(',', tags))\n",
    "\n",
    "# DROPPED\n",
    "#def get_author_info(soup):\n",
    "#    author = {}\n",
    "#    author['author_registration_date'] = soup.find('div', class_=\"user-details\").find('p').find('br').previous_sibling.strip()\n",
    "#    author['author_reviews'] = soup.find('div', class_=\"user-details\").find('p').find('br').next_sibling.strip()\n",
    "#    return(author)"
   ]
  },
  {
   "cell_type": "code",
   "execution_count": 136,
   "metadata": {},
   "outputs": [],
   "source": [
    "desktop_agents = ['Mozilla/5.0 (Windows NT 6.1; WOW64) AppleWebKit/537.36 (KHTML, like Gecko) Chrome/54.0.2840.99 Safari/537.36',\n",
    "                 'Mozilla/5.0 (Windows NT 10.0; WOW64) AppleWebKit/537.36 (KHTML, like Gecko) Chrome/54.0.2840.99 Safari/537.36',\n",
    "                 'Mozilla/5.0 (Windows NT 10.0; Win64; x64) AppleWebKit/537.36 (KHTML, like Gecko) Chrome/54.0.2840.99 Safari/537.36',\n",
    "                 'Mozilla/5.0 (Macintosh; Intel Mac OS X 10_12_1) AppleWebKit/602.2.14 (KHTML, like Gecko) Version/10.0.1 Safari/602.2.14',\n",
    "                 'Mozilla/5.0 (Windows NT 10.0; WOW64) AppleWebKit/537.36 (KHTML, like Gecko) Chrome/54.0.2840.71 Safari/537.36',\n",
    "                 'Mozilla/5.0 (Macintosh; Intel Mac OS X 10_12_1) AppleWebKit/537.36 (KHTML, like Gecko) Chrome/54.0.2840.98 Safari/537.36',\n",
    "                 'Mozilla/5.0 (Macintosh; Intel Mac OS X 10_11_6) AppleWebKit/537.36 (KHTML, like Gecko) Chrome/54.0.2840.98 Safari/537.36',\n",
    "                 'Mozilla/5.0 (Windows NT 6.1; WOW64) AppleWebKit/537.36 (KHTML, like Gecko) Chrome/54.0.2840.71 Safari/537.36',\n",
    "                 'Mozilla/5.0 (Windows NT 6.1; Win64; x64) AppleWebKit/537.36 (KHTML, like Gecko) Chrome/54.0.2840.99 Safari/537.36',\n",
    "                 'Mozilla/5.0 (Windows NT 10.0; WOW64; rv:50.0) Gecko/20100101 Firefox/50.0']\n",
    "\n",
    "def random_headers():\n",
    "    return {'User-Agent': choice(desktop_agents),'Accept':'text/html,application/xhtml+xml,application/xml;q=0.9,image/webp,*/*;q=0.8'}"
   ]
  },
  {
   "cell_type": "code",
   "execution_count": 137,
   "metadata": {},
   "outputs": [],
   "source": [
    "failed_urls = []"
   ]
  },
  {
   "cell_type": "code",
   "execution_count": 149,
   "metadata": {},
   "outputs": [],
   "source": [
    "def get_html(url):\n",
    "    i = 5\n",
    "    while i > 0:\n",
    "        try:\n",
    "            page = requests.get(url, headers=random_headers())\n",
    "            if page.status_code != requests.codes.ok:\n",
    "                page.raise_for_status()\n",
    "            else:\n",
    "#                 print(url)\n",
    "                return page.text        \n",
    "        except requests.exceptions.RequestException as e:\n",
    "            print(\"Could not fetch \" + url)\n",
    "            print(e)\n",
    "            # sichere url zu einer Liste von fehlgeschlagenen Links\n",
    "            failed_urls.append(url)\n",
    "            sleep(5)\n",
    "            i = i - 1\n",
    "            continue\n",
    "\n",
    "    print(\"Link zum 5. Mal nicht abrufbar \" + url + \" ,abbrechen\")\n",
    "    return None"
   ]
  },
  {
   "cell_type": "code",
   "execution_count": null,
   "metadata": {},
   "outputs": [],
   "source": [
    "def get_recipe_info(url):\n",
    "    sleep_time = uniform(2, 4)\n",
    "    sleep(sleep_time)\n",
    "    \n",
    "    html_text = get_html(url)\n",
    "    try:\n",
    "        soup = BeautifulSoup(html_text, 'lxml')\n",
    "\n",
    "        # tags ingredients preparation\n",
    "        ingredient_list = get_ingredients(soup)\n",
    "        tags = get_tags(soup)\n",
    "        prep = get_zubereitung(soup)\n",
    "        \n",
    "        # pics\n",
    "        list_pics = get_n_pictures(soup)\n",
    "        n_pics = len(list_pics)\n",
    "        \n",
    "        # update dictionary\n",
    "#         stats = get_stats(soup)\n",
    "        #author_info = get_author_info(soup)\n",
    "#         print(\"stats\",stats)\n",
    "        \n",
    "        # write dictionary\n",
    "        data = {'link' : url,\n",
    "                'ingredients' : ingredient_list,\n",
    "                'zubereitung' : prep,\n",
    "                'tags': tags, \n",
    "                'n_pics': n_pics}\n",
    "#         data.update(stats)\n",
    "        \n",
    "        #data.update(author_info)\n",
    "        \n",
    "    except:\n",
    "        data = ''\n",
    "        list_pics = ''\n",
    "        print('error')\n",
    "    \n",
    "    # write file \n",
    "    write_recipe_details(data)\n",
    "    write_picture_list(list_pics)\n",
    "\n"
   ]
  },
  {
   "cell_type": "code",
   "execution_count": 164,
   "metadata": {},
   "outputs": [
    {
     "name": "stderr",
     "output_type": "stream",
     "text": [
      "  0%|                                                                                                                             | 7/316767 [00:32<392:36:00,  4.46s/it]"
     ]
    },
    {
     "name": "stdout",
     "output_type": "stream",
     "text": [
      "error\n"
     ]
    },
    {
     "name": "stderr",
     "output_type": "stream",
     "text": [
      "\r",
      "  0%|                                                                                                                             | 8/316767 [00:37<415:52:55,  4.73s/it]"
     ]
    },
    {
     "name": "stdout",
     "output_type": "stream",
     "text": [
      "error\n"
     ]
    },
    {
     "name": "stderr",
     "output_type": "stream",
     "text": [
      "  0%|                                                                                                                            | 52/316767 [03:51<371:52:16,  4.23s/it]"
     ]
    },
    {
     "name": "stdout",
     "output_type": "stream",
     "text": [
      "error\n"
     ]
    },
    {
     "name": "stderr",
     "output_type": "stream",
     "text": [
      "  0%|                                                                                                                            | 77/316767 [05:44<393:48:35,  4.48s/it]"
     ]
    },
    {
     "name": "stdout",
     "output_type": "stream",
     "text": [
      "error\n"
     ]
    },
    {
     "name": "stderr",
     "output_type": "stream",
     "text": [
      "  0%|                                                                                                                            | 83/316767 [06:09<360:42:51,  4.10s/it]"
     ]
    },
    {
     "name": "stdout",
     "output_type": "stream",
     "text": [
      "error\n"
     ]
    },
    {
     "name": "stderr",
     "output_type": "stream",
     "text": [
      "  0%|                                                                                                                            | 87/316767 [06:28<403:01:54,  4.58s/it]"
     ]
    },
    {
     "name": "stdout",
     "output_type": "stream",
     "text": [
      "error\n"
     ]
    },
    {
     "name": "stderr",
     "output_type": "stream",
     "text": [
      "  0%|                                                                                                                            | 93/316767 [06:57<418:22:49,  4.76s/it]"
     ]
    },
    {
     "name": "stdout",
     "output_type": "stream",
     "text": [
      "error\n"
     ]
    },
    {
     "name": "stderr",
     "output_type": "stream",
     "text": [
      "\r",
      "  0%|                                                                                                                            | 94/316767 [07:01<404:33:38,  4.60s/it]"
     ]
    },
    {
     "name": "stdout",
     "output_type": "stream",
     "text": [
      "error\n"
     ]
    },
    {
     "name": "stderr",
     "output_type": "stream",
     "text": [
      "  0%|                                                                                                                           | 111/316767 [08:17<409:09:53,  4.65s/it]"
     ]
    },
    {
     "name": "stdout",
     "output_type": "stream",
     "text": [
      "error\n"
     ]
    },
    {
     "name": "stderr",
     "output_type": "stream",
     "text": [
      "  0%|                                                                                                                           | 125/316767 [09:23<403:51:32,  4.59s/it]"
     ]
    },
    {
     "name": "stdout",
     "output_type": "stream",
     "text": [
      "error\n"
     ]
    },
    {
     "name": "stderr",
     "output_type": "stream",
     "text": [
      "  0%|                                                                                                                           | 141/316767 [10:36<424:14:35,  4.82s/it]"
     ]
    },
    {
     "name": "stdout",
     "output_type": "stream",
     "text": [
      "error\n"
     ]
    },
    {
     "name": "stderr",
     "output_type": "stream",
     "text": [
      "  0%|                                                                                                                           | 144/316767 [10:49<404:38:28,  4.60s/it]"
     ]
    },
    {
     "name": "stdout",
     "output_type": "stream",
     "text": [
      "error\n"
     ]
    },
    {
     "name": "stderr",
     "output_type": "stream",
     "text": [
      "  0%|                                                                                                                           | 154/316767 [11:35<412:00:01,  4.68s/it]"
     ]
    },
    {
     "name": "stdout",
     "output_type": "stream",
     "text": [
      "error\n"
     ]
    },
    {
     "name": "stderr",
     "output_type": "stream",
     "text": [
      "  0%|                                                                                                                           | 161/316767 [12:06<381:03:00,  4.33s/it]"
     ]
    },
    {
     "name": "stdout",
     "output_type": "stream",
     "text": [
      "error\n"
     ]
    },
    {
     "name": "stderr",
     "output_type": "stream",
     "text": [
      "  0%|                                                                                                                           | 205/316767 [15:35<431:07:52,  4.90s/it]"
     ]
    },
    {
     "name": "stdout",
     "output_type": "stream",
     "text": [
      "error\n"
     ]
    },
    {
     "name": "stderr",
     "output_type": "stream",
     "text": [
      "  0%|                                                                                                                           | 218/316767 [16:31<377:01:27,  4.29s/it]"
     ]
    },
    {
     "name": "stdout",
     "output_type": "stream",
     "text": [
      "error\n"
     ]
    },
    {
     "name": "stderr",
     "output_type": "stream",
     "text": [
      "\r",
      "  0%|                                                                                                                           | 219/316767 [16:36<386:49:22,  4.40s/it]"
     ]
    },
    {
     "name": "stdout",
     "output_type": "stream",
     "text": [
      "error\n"
     ]
    },
    {
     "name": "stderr",
     "output_type": "stream",
     "text": [
      "  0%|                                                                                                                           | 221/316767 [16:43<344:05:33,  3.91s/it]"
     ]
    },
    {
     "name": "stdout",
     "output_type": "stream",
     "text": [
      "error\n"
     ]
    },
    {
     "name": "stderr",
     "output_type": "stream",
     "text": [
      "  0%|                                                                                                                           | 223/316767 [16:52<372:37:14,  4.24s/it]"
     ]
    },
    {
     "name": "stdout",
     "output_type": "stream",
     "text": [
      "error\n"
     ]
    },
    {
     "name": "stderr",
     "output_type": "stream",
     "text": [
      "  0%|                                                                                                                           | 230/316767 [17:23<380:52:51,  4.33s/it]"
     ]
    },
    {
     "name": "stdout",
     "output_type": "stream",
     "text": [
      "error\n"
     ]
    },
    {
     "name": "stderr",
     "output_type": "stream",
     "text": [
      "  0%|                                                                                                                           | 271/316767 [20:41<425:09:34,  4.84s/it]"
     ]
    },
    {
     "name": "stdout",
     "output_type": "stream",
     "text": [
      "error\n"
     ]
    },
    {
     "name": "stderr",
     "output_type": "stream",
     "text": [
      "  0%|                                                                                                                           | 277/316767 [21:12<451:16:40,  5.13s/it]"
     ]
    },
    {
     "name": "stdout",
     "output_type": "stream",
     "text": [
      "error\n"
     ]
    },
    {
     "name": "stderr",
     "output_type": "stream",
     "text": [
      "  0%|                                                                                                                           | 320/316767 [24:37<432:54:53,  4.92s/it]"
     ]
    },
    {
     "name": "stdout",
     "output_type": "stream",
     "text": [
      "error\n"
     ]
    },
    {
     "name": "stderr",
     "output_type": "stream",
     "text": [
      "  0%|▏                                                                                                                          | 328/316767 [25:20<477:39:51,  5.43s/it]"
     ]
    },
    {
     "name": "stdout",
     "output_type": "stream",
     "text": [
      "error\n"
     ]
    },
    {
     "name": "stderr",
     "output_type": "stream",
     "text": [
      "  0%|▏                                                                                                                          | 337/316767 [26:11<451:53:08,  5.14s/it]"
     ]
    },
    {
     "name": "stdout",
     "output_type": "stream",
     "text": [
      "error\n"
     ]
    },
    {
     "name": "stderr",
     "output_type": "stream",
     "text": [
      "  0%|▏                                                                                                                          | 341/316767 [26:27<369:10:04,  4.20s/it]"
     ]
    },
    {
     "name": "stdout",
     "output_type": "stream",
     "text": [
      "error\n"
     ]
    },
    {
     "name": "stderr",
     "output_type": "stream",
     "text": [
      "  0%|▏                                                                                                                          | 343/316767 [26:40<469:10:39,  5.34s/it]"
     ]
    },
    {
     "name": "stdout",
     "output_type": "stream",
     "text": [
      "error\n"
     ]
    },
    {
     "name": "stderr",
     "output_type": "stream",
     "text": [
      "  0%|▏                                                                                                                          | 345/316767 [26:49<419:51:28,  4.78s/it]"
     ]
    },
    {
     "name": "stdout",
     "output_type": "stream",
     "text": [
      "error\n"
     ]
    },
    {
     "name": "stderr",
     "output_type": "stream",
     "text": [
      "  0%|▏                                                                                                                          | 354/316767 [27:32<433:32:37,  4.93s/it]"
     ]
    },
    {
     "name": "stdout",
     "output_type": "stream",
     "text": [
      "error\n"
     ]
    },
    {
     "name": "stderr",
     "output_type": "stream",
     "text": [
      "  0%|▏                                                                                                                          | 366/316767 [28:27<413:40:04,  4.71s/it]"
     ]
    },
    {
     "name": "stdout",
     "output_type": "stream",
     "text": [
      "Could not fetch https://www.chefkoch.de/rezepte/3435791511830059/Chinagewuerz-Reis.html\n",
      "404 Client Error: Not Found for url: https://www.chefkoch.de/rezepte/3435791511830059/Chinagewuerz-Reis.html\n",
      "Could not fetch https://www.chefkoch.de/rezepte/3435791511830059/Chinagewuerz-Reis.html\n",
      "404 Client Error: Not Found for url: https://www.chefkoch.de/rezepte/3435791511830059/Chinagewuerz-Reis.html\n",
      "Could not fetch https://www.chefkoch.de/rezepte/3435791511830059/Chinagewuerz-Reis.html\n",
      "404 Client Error: Not Found for url: https://www.chefkoch.de/rezepte/3435791511830059/Chinagewuerz-Reis.html\n",
      "Could not fetch https://www.chefkoch.de/rezepte/3435791511830059/Chinagewuerz-Reis.html\n",
      "404 Client Error: Not Found for url: https://www.chefkoch.de/rezepte/3435791511830059/Chinagewuerz-Reis.html\n",
      "Could not fetch https://www.chefkoch.de/rezepte/3435791511830059/Chinagewuerz-Reis.html\n",
      "404 Client Error: Not Found for url: https://www.chefkoch.de/rezepte/3435791511830059/Chinagewuerz-Reis.html\n"
     ]
    },
    {
     "name": "stderr",
     "output_type": "stream",
     "text": [
      "\r",
      "  0%|▏                                                                                                                         | 367/316767 [29:01<1200:55:23, 13.66s/it]"
     ]
    },
    {
     "name": "stdout",
     "output_type": "stream",
     "text": [
      "Link zum 5. Mal nicht abrufbar https://www.chefkoch.de/rezepte/3435791511830059/Chinagewuerz-Reis.html ,abbrechen\n",
      "error\n"
     ]
    },
    {
     "name": "stderr",
     "output_type": "stream",
     "text": [
      "  0%|▏                                                                                                                          | 373/316767 [29:29<416:51:37,  4.74s/it]\n"
     ]
    },
    {
     "ename": "KeyboardInterrupt",
     "evalue": "",
     "output_type": "error",
     "traceback": [
      "\u001b[0;31m---------------------------------------------------------------------------\u001b[0m",
      "\u001b[0;31mKeyboardInterrupt\u001b[0m                         Traceback (most recent call last)",
      "Input \u001b[0;32mIn [164]\u001b[0m, in \u001b[0;36m<cell line: 2>\u001b[0;34m()\u001b[0m\n\u001b[1;32m      1\u001b[0m \u001b[38;5;28mlen\u001b[39m(recipe_links)\n\u001b[1;32m      2\u001b[0m \u001b[38;5;28;01mfor\u001b[39;00m i \u001b[38;5;129;01min\u001b[39;00m  tqdm(\u001b[38;5;28mrange\u001b[39m(\u001b[38;5;241m1\u001b[39m,\u001b[38;5;28mlen\u001b[39m(recipe_links))):\n\u001b[0;32m----> 3\u001b[0m     \u001b[43mget_recipe_info\u001b[49m\u001b[43m(\u001b[49m\u001b[43mrecipe_links\u001b[49m\u001b[43m[\u001b[49m\u001b[43mi\u001b[49m\u001b[43m]\u001b[49m\u001b[43m)\u001b[49m\n",
      "Input \u001b[0;32mIn [161]\u001b[0m, in \u001b[0;36mget_recipe_info\u001b[0;34m(url)\u001b[0m\n\u001b[1;32m      1\u001b[0m \u001b[38;5;28;01mdef\u001b[39;00m \u001b[38;5;21mget_recipe_info\u001b[39m(url):\n\u001b[1;32m      2\u001b[0m     sleep_time \u001b[38;5;241m=\u001b[39m uniform(\u001b[38;5;241m2\u001b[39m, \u001b[38;5;241m4\u001b[39m)\n\u001b[0;32m----> 3\u001b[0m     \u001b[43msleep\u001b[49m\u001b[43m(\u001b[49m\u001b[43msleep_time\u001b[49m\u001b[43m)\u001b[49m\n\u001b[1;32m      5\u001b[0m     html_text \u001b[38;5;241m=\u001b[39m get_html(url)\n\u001b[1;32m      6\u001b[0m     \u001b[38;5;28;01mtry\u001b[39;00m:\n",
      "\u001b[0;31mKeyboardInterrupt\u001b[0m: "
     ]
    }
   ],
   "source": [
    "# # Try to use the given csv for now\n",
    "# len(recipe_links)\n",
    "# for i in  tqdm(range(1,len(recipe_links))):\n",
    "#     get_recipe_info(recipe_links[i])"
   ]
  },
  {
   "cell_type": "code",
   "execution_count": null,
   "metadata": {},
   "outputs": [],
   "source": [
    "# # it doesn't work in interactive notebook \n",
    "# p = Pool(15)\n",
    "# with p:\n",
    "#     p.map(get_recipe_info, recipe_links[0:50])"
   ]
  },
  {
   "cell_type": "markdown",
   "metadata": {},
   "source": [
    "#### 15'360 Rezepte wurden pro Stunde in *recipe_details_27-12-2017.csv* heruntergeladen. Gesamte Laufzeit: 20h 36min\n",
    "#### Die cvs Datei enthält nun die sehr wichtigen Daten"
   ]
  },
  {
   "cell_type": "code",
   "execution_count": 166,
   "metadata": {},
   "outputs": [
    {
     "name": "stdout",
     "output_type": "stream",
     "text": [
      "input/test/recipe_details_04-12-2022.csv\n"
     ]
    },
    {
     "data": {
      "text/html": [
       "<div>\n",
       "<style scoped>\n",
       "    .dataframe tbody tr th:only-of-type {\n",
       "        vertical-align: middle;\n",
       "    }\n",
       "\n",
       "    .dataframe tbody tr th {\n",
       "        vertical-align: top;\n",
       "    }\n",
       "\n",
       "    .dataframe thead th {\n",
       "        text-align: right;\n",
       "    }\n",
       "</style>\n",
       "<table border=\"1\" class=\"dataframe\">\n",
       "  <thead>\n",
       "    <tr style=\"text-align: right;\">\n",
       "      <th></th>\n",
       "      <th>0</th>\n",
       "      <th>1</th>\n",
       "      <th>2</th>\n",
       "      <th>3</th>\n",
       "      <th>4</th>\n",
       "    </tr>\n",
       "  </thead>\n",
       "  <tbody>\n",
       "    <tr>\n",
       "      <th>0</th>\n",
       "      <td>https://www.chefkoch.de/rezepte/25655614015538...</td>\n",
       "      <td>1kleine@Zucchini,1@Würstchen,1EL@Kräuterbutter...</td>\n",
       "      <td>Zunächst die Zucchini waschen und mit einem Sp...</td>\n",
       "      <td>Rezepte finden,Kategorien,Rezepte eingeben</td>\n",
       "      <td>0</td>\n",
       "    </tr>\n",
       "    <tr>\n",
       "      <th>1</th>\n",
       "      <td>https://www.chefkoch.de/rezepte/31047514633901...</td>\n",
       "      <td>250g@Mehl,3TL@Backpulver,100g@Crème fraîche,2@...</td>\n",
       "      <td>Ofen auf 180 °C vorheizen. Mehl mit Backpulver...</td>\n",
       "      <td>Rezepte finden,Kategorien,Rezepte eingeben</td>\n",
       "      <td>1</td>\n",
       "    </tr>\n",
       "    <tr>\n",
       "      <th>2</th>\n",
       "      <td>https://www.chefkoch.de/rezepte/33703415012619...</td>\n",
       "      <td>2½kg@Schweineschulter,200ml@Sonnenblumenöl,1TL...</td>\n",
       "      <td>kcal         1392       Eiweiß         70,97 g...</td>\n",
       "      <td>Rezepte finden,Kategorien,Rezepte eingeben</td>\n",
       "      <td>1</td>\n",
       "    </tr>\n",
       "    <tr>\n",
       "      <th>3</th>\n",
       "      <td>https://www.chefkoch.de/rezepte/26642514182443...</td>\n",
       "      <td>250g@Weizenmehl,1TL,gestr.@Backpulver,88g@Zuck...</td>\n",
       "      <td>Den Süßstoff in 1-2 EL heißem Wasser auflösen....</td>\n",
       "      <td>Rezepte finden,Kategorien,Rezepte eingeben</td>\n",
       "      <td>1</td>\n",
       "    </tr>\n",
       "    <tr>\n",
       "      <th>4</th>\n",
       "      <td>https://www.chefkoch.de/rezepte/28978314421493...</td>\n",
       "      <td>4@Forelle,2EL@Zitronensaft,@Salz,@Pfeffer,1kle...</td>\n",
       "      <td>Die Backröhre auf 190 °C Ober-/Unterhitze vorh...</td>\n",
       "      <td>Rezepte finden,Kategorien,Rezepte eingeben</td>\n",
       "      <td>1</td>\n",
       "    </tr>\n",
       "  </tbody>\n",
       "</table>\n",
       "</div>"
      ],
      "text/plain": [
       "                                                   0  \\\n",
       "0  https://www.chefkoch.de/rezepte/25655614015538...   \n",
       "1  https://www.chefkoch.de/rezepte/31047514633901...   \n",
       "2  https://www.chefkoch.de/rezepte/33703415012619...   \n",
       "3  https://www.chefkoch.de/rezepte/26642514182443...   \n",
       "4  https://www.chefkoch.de/rezepte/28978314421493...   \n",
       "\n",
       "                                                   1  \\\n",
       "0  1kleine@Zucchini,1@Würstchen,1EL@Kräuterbutter...   \n",
       "1  250g@Mehl,3TL@Backpulver,100g@Crème fraîche,2@...   \n",
       "2  2½kg@Schweineschulter,200ml@Sonnenblumenöl,1TL...   \n",
       "3  250g@Weizenmehl,1TL,gestr.@Backpulver,88g@Zuck...   \n",
       "4  4@Forelle,2EL@Zitronensaft,@Salz,@Pfeffer,1kle...   \n",
       "\n",
       "                                                   2  \\\n",
       "0  Zunächst die Zucchini waschen und mit einem Sp...   \n",
       "1  Ofen auf 180 °C vorheizen. Mehl mit Backpulver...   \n",
       "2  kcal         1392       Eiweiß         70,97 g...   \n",
       "3  Den Süßstoff in 1-2 EL heißem Wasser auflösen....   \n",
       "4  Die Backröhre auf 190 °C Ober-/Unterhitze vorh...   \n",
       "\n",
       "                                             3  4  \n",
       "0  Rezepte finden,Kategorien,Rezepte eingeben  0  \n",
       "1  Rezepte finden,Kategorien,Rezepte eingeben  1  \n",
       "2  Rezepte finden,Kategorien,Rezepte eingeben  1  \n",
       "3  Rezepte finden,Kategorien,Rezepte eingeben  1  \n",
       "4  Rezepte finden,Kategorien,Rezepte eingeben  1  "
      ]
     },
     "execution_count": 166,
     "metadata": {},
     "output_type": "execute_result"
    }
   ],
   "source": [
    "DFILE_NAME    = 'recipe_details_' + '27-12-2017.' + '.csv'\n",
    "PIC_LIST      = 'pic_list_' + '27-12-2017' + '.csv'\n",
    "print(DATAST_FOLDER+DFILE_NAME)\n",
    "import pandas as pd\n",
    "recipe_details = pd.read_csv(DATAST_FOLDER+DFILE_NAME, header=None)\n",
    "recipe_details.head() # erste 5 zeilen"
   ]
  },
  {
   "cell_type": "markdown",
   "metadata": {},
   "source": [
    "# Herunterladen der Bilder\n",
    "下载图像\n",
    "\n",
    "Bis jetzt sind nur die Thumbnails heruntergeladen. Die Grösse beträgt 164x140. Zu finden sind die Thumbnails unter input/images/search_thumbnails. Beispiel:\n",
    "到目前为止，只下载了缩略图。尺寸为 164x140。缩略图可以在 input/images/search_thumbnails 下找到。例子"
   ]
  },
  {
   "cell_type": "code",
   "execution_count": 200,
   "metadata": {},
   "outputs": [],
   "source": [
    "from IPython.display import Image\n",
    "PATH = \"input/images/search_thumbnails/\"\n",
    "# Image(filename = PATH + \"recipe-1742451283182013-0.jpg\", width=360, height=240)"
   ]
  },
  {
   "cell_type": "markdown",
   "metadata": {},
   "source": [
    "Chefkoch erlaubt seinen Nutzern Bilder vom Rezept hochzuladen. Oftmals ist es so, dass es mehr als ein Bild pro Rezept gibt. Um möglichst viele Daten zu haben, ladet man natürlich alle Bilder herunter. Die Links sind in der Datei *pic_list_27-12-2017.csv*"
   ]
  },
  {
   "cell_type": "code",
   "execution_count": 207,
   "metadata": {},
   "outputs": [
    {
     "name": "stderr",
     "output_type": "stream",
     "text": [
      "/var/folders/mm/_4m99mz14qn619z8qsl3rhbh0000gn/T/ipykernel_43590/2936013834.py:2: FutureWarning: The error_bad_lines argument has been deprecated and will be removed in a future version. Use on_bad_lines in the future.\n",
      "\n",
      "\n",
      "  pic_list = pd.read_csv('input/test/pic_list_27-12-2017.csv', error_bad_lines=False, header=None)  #pic_list_04-12-2022,pic_list_27-12-2017\n",
      "IOPub data rate exceeded.\n",
      "The notebook server will temporarily stop sending output\n",
      "to the client in order to avoid crashing it.\n",
      "To change this limit, set the config variable\n",
      "`--NotebookApp.iopub_data_rate_limit`.\n",
      "\n",
      "Current values:\n",
      "NotebookApp.iopub_data_rate_limit=1000000.0 (bytes/sec)\n",
      "NotebookApp.rate_limit_window=3.0 (secs)\n",
      "\n"
     ]
    },
    {
     "data": {
      "text/html": [
       "<div>\n",
       "<style scoped>\n",
       "    .dataframe tbody tr th:only-of-type {\n",
       "        vertical-align: middle;\n",
       "    }\n",
       "\n",
       "    .dataframe tbody tr th {\n",
       "        vertical-align: top;\n",
       "    }\n",
       "\n",
       "    .dataframe thead th {\n",
       "        text-align: right;\n",
       "    }\n",
       "</style>\n",
       "<table border=\"1\" class=\"dataframe\">\n",
       "  <thead>\n",
       "    <tr style=\"text-align: right;\">\n",
       "      <th></th>\n",
       "      <th>0</th>\n",
       "    </tr>\n",
       "  </thead>\n",
       "  <tbody>\n",
       "    <tr>\n",
       "      <th>0</th>\n",
       "      <td>https://static.chefkoch-cdn.de/ck.de/rezepte/1...</td>\n",
       "    </tr>\n",
       "    <tr>\n",
       "      <th>1</th>\n",
       "      <td>https://static.chefkoch-cdn.de/ck.de/rezepte/1...</td>\n",
       "    </tr>\n",
       "    <tr>\n",
       "      <th>2</th>\n",
       "      <td>https://static.chefkoch-cdn.de/ck.de/rezepte/3...</td>\n",
       "    </tr>\n",
       "    <tr>\n",
       "      <th>3</th>\n",
       "      <td>https://static.chefkoch-cdn.de/ck.de/rezepte/3...</td>\n",
       "    </tr>\n",
       "    <tr>\n",
       "      <th>4</th>\n",
       "      <td>https://static.chefkoch-cdn.de/ck.de/rezepte/2...</td>\n",
       "    </tr>\n",
       "  </tbody>\n",
       "</table>\n",
       "</div>"
      ],
      "text/plain": [
       "                                                   0\n",
       "0  https://static.chefkoch-cdn.de/ck.de/rezepte/1...\n",
       "1  https://static.chefkoch-cdn.de/ck.de/rezepte/1...\n",
       "2  https://static.chefkoch-cdn.de/ck.de/rezepte/3...\n",
       "3  https://static.chefkoch-cdn.de/ck.de/rezepte/3...\n",
       "4  https://static.chefkoch-cdn.de/ck.de/rezepte/2..."
      ]
     },
     "execution_count": 207,
     "metadata": {},
     "output_type": "execute_result"
    }
   ],
   "source": [
    "# import pandas as pd\n",
    "# pic_list = pd.read_csv('input/test/pic_list_27-12-2017.csv', error_bad_lines=False, header=None)  #pic_list_04-12-2022,pic_list_27-12-2017\n",
    "# pic_list.head()"
   ]
  },
  {
   "cell_type": "markdown",
   "metadata": {},
   "source": [
    "Zuerst überprüfen wir ob die Liste leere Einträge hat, welche entfernt werden müssen."
   ]
  },
  {
   "cell_type": "code",
   "execution_count": 172,
   "metadata": {},
   "outputs": [],
   "source": [
    "# pic_list[pic_list[1].isnull()] # 2 NaN entries"
   ]
  },
  {
   "cell_type": "code",
   "execution_count": 211,
   "metadata": {},
   "outputs": [],
   "source": [
    "# pic_list = pic_list.drop(pic_list.index[105484])\n",
    "# pic_list = pic_list.drop(pic_list.index[140099])"
   ]
  },
  {
   "cell_type": "code",
   "execution_count": 222,
   "metadata": {},
   "outputs": [
    {
     "data": {
      "text/plain": [
       "0        https://static.chefkoch-cdn.de/ck.de/rezepte/1...\n",
       "1        https://static.chefkoch-cdn.de/ck.de/rezepte/1...\n",
       "2        https://static.chefkoch-cdn.de/ck.de/rezepte/3...\n",
       "3        https://static.chefkoch-cdn.de/ck.de/rezepte/3...\n",
       "4        https://static.chefkoch-cdn.de/ck.de/rezepte/2...\n",
       "                               ...                        \n",
       "83486    https://static.chefkoch-cdn.de/ck.de/rezepte/2...\n",
       "83487    https://static.chefkoch-cdn.de/ck.de/rezepte/2...\n",
       "83488    https://static.chefkoch-cdn.de/ck.de/rezepte/2...\n",
       "83489    https://static.chefkoch-cdn.de/ck.de/rezepte/3...\n",
       "83490    https://static.chefkoch-cdn.de/ck.de/rezepte/4...\n",
       "Name: 0, Length: 83491, dtype: object"
      ]
     },
     "execution_count": 222,
     "metadata": {},
     "output_type": "execute_result"
    }
   ],
   "source": [
    "# pic_list[pic_list[1].isnull()] # No more NaN entries\n",
    "pic_list[0]"
   ]
  },
  {
   "cell_type": "markdown",
   "metadata": {},
   "source": [
    "**689'651** Bilder von **107'052** Rezepten müssen noch heruntergeladen werden.\n",
    "\n",
    "### Bisherige Statistik: (Stand: Ende Dezember 2017)\n",
    "    Chefkoch.de enthält:\n",
    "        - Insgesamt 879'620 Bilder\n",
    "        - 316'756 Rezepte\n",
    "            - Davon enthalten 189'969 ein oder mehr Bilder\n",
    "                - Davon enthalten 107'052 Rezepte mehr als 2 Bilder\n",
    "            - 126'787 enthalten kein Bild\n",
    "107,052 个食谱的 689,651 张图片尚未下载。\n",
    "截至目前统计：（截至2017年12月底）\n",
    "Chefkoch.de 包含：\n",
    "    - 共有 879,620 张图片\n",
    "    - 316'756 份食谱\n",
    "        - 其中，189,969 幅包含一幅或多幅图像\n",
    "            - 其中，107,052 个食谱包含超过 2 张图片\n",
    "        - 126,787 不包含图像"
   ]
  },
  {
   "cell_type": "code",
   "execution_count": 296,
   "metadata": {},
   "outputs": [
    {
     "name": "stdout",
     "output_type": "stream",
     "text": [
      "796727\n"
     ]
    }
   ],
   "source": [
    "import csv\n",
    "links = []\n",
    "with open('input/test/pic_list_27-12-2017.csv', 'r') as file:\n",
    "    reader = csv.reader(file)\n",
    "    for row in reader:\n",
    "        if len(row) > 1: links.append(row)\n",
    "\n",
    "count=0\n",
    "for ll in links:\n",
    "    for l in ll:\n",
    "        count+=1\n",
    "print(count)"
   ]
  },
  {
   "cell_type": "code",
   "execution_count": 345,
   "metadata": {},
   "outputs": [
    {
     "data": {
      "text/plain": [
       "['174245',\n",
       " '8811',\n",
       " '32579',\n",
       " '187900',\n",
       " '58201',\n",
       " '80531',\n",
       " '81710',\n",
       " '128961',\n",
       " '95816',\n",
       " '231697',\n",
       " '7308']"
      ]
     },
     "execution_count": 345,
     "metadata": {},
     "output_type": "execute_result"
    }
   ],
   "source": [
    "partial_ids = []\n",
    "title_ids = []\n",
    "matches_partialid_piclists = {} # key: (partial_recipe_id,title) , value: pics_list, \n",
    "matches_partialid_value={} #key: title , value: partial_recipe_id,\n",
    "for link in links:\n",
    "    #get partial id\n",
    "    try:\n",
    "        ids=link[0].split('/')[6]\n",
    "    except:\n",
    "        ids='0'\n",
    "        \n",
    "    #get title\n",
    "    try:\n",
    "        title=link[0].split('fix-')[1].split('.')[0]\n",
    "    except:\n",
    "        title=\"0\"\n",
    "        \n",
    "    partial_ids.append(ids) # extrakt partial id 提取部分标识\n",
    "    title_ids.append(title)\n",
    "    matches_partialid_piclists[(ids,title)]=link\n",
    "    if title not in matches_partialid_value:\n",
    "        matches_partialid_value[title]=[ids]\n",
    "    else:\n",
    "        matches_partialid_value[title].append(ids)\n",
    "partial_ids[:11]\n"
   ]
  },
  {
   "cell_type": "code",
   "execution_count": 342,
   "metadata": {},
   "outputs": [
    {
     "data": {
      "text/plain": [
       "['johannisbeer-cupcakes-mit-karamellperlen',\n",
       " 'lamm-aus-dem-ofen',\n",
       " 'kartoffeln-mit-quark',\n",
       " 'mangokuchen-mit-feinen-gewuerzen-nuessen-und-kokosflocken',\n",
       " 'geschnetzeltes',\n",
       " 'mango-creme',\n",
       " 'zitronenkuchen-mit-sauerrahm',\n",
       " 'wuerziges-sauerteigmischbrot',\n",
       " 'aprikosen-bienenstich',\n",
       " 'karotten-s-kartoffel-suppe',\n",
       " 'bulgarisches-kaeseomelett']"
      ]
     },
     "execution_count": 342,
     "metadata": {},
     "output_type": "execute_result"
    }
   ],
   "source": [
    "title_ids[:11]"
   ]
  },
  {
   "cell_type": "code",
   "execution_count": 346,
   "metadata": {},
   "outputs": [
    {
     "data": {
      "text/plain": [
       "['https://static.chefkoch-cdn.de/ck.de/rezepte/174/174245/465523-420x280-fix-johannisbeer-cupcakes-mit-karamellperlen.jpg',\n",
       " 'https://static.chefkoch-cdn.de/ck.de/rezepte/174/174245/280352-420x280-fix-johannisbeer-cupcakes-mit-karamellperlen.jpg',\n",
       " 'https://static.chefkoch-cdn.de/ck.de/rezepte/174/174245/280354-420x280-fix-johannisbeer-cupcakes-mit-karamellperlen.jpg']"
      ]
     },
     "execution_count": 346,
     "metadata": {},
     "output_type": "execute_result"
    }
   ],
   "source": [
    "matches_partialid_piclists[('174245','johannisbeer-cupcakes-mit-karamellperlen')]"
   ]
  },
  {
   "cell_type": "code",
   "execution_count": 347,
   "metadata": {},
   "outputs": [
    {
     "data": {
      "text/plain": [
       "['https://static.chefkoch-cdn.de/ck.de/rezepte/8/8811/58347-420x280-fix-lamm-aus-dem-ofen.jpg',\n",
       " 'https://static.chefkoch-cdn.de/ck.de/rezepte/8/8811/953837-420x280-fix-lamm-aus-dem-ofen.jpg',\n",
       " 'https://static.chefkoch-cdn.de/ck.de/rezepte/8/8811/871097-420x280-fix-lamm-aus-dem-ofen.jpg',\n",
       " 'https://static.chefkoch-cdn.de/ck.de/rezepte/8/8811/58348-420x280-fix-lamm-aus-dem-ofen.jpg',\n",
       " 'https://static.chefkoch-cdn.de/ck.de/rezepte/8/8811/456140-420x280-fix-lamm-aus-dem-ofen.jpg',\n",
       " 'https://static.chefkoch-cdn.de/ck.de/rezepte/8/8811/167510-420x280-fix-lamm-aus-dem-ofen.jpg',\n",
       " 'https://static.chefkoch-cdn.de/ck.de/rezepte/8/8811/562782-420x280-fix-lamm-aus-dem-ofen.jpg',\n",
       " 'https://static.chefkoch-cdn.de/ck.de/rezepte/8/8811/58346-420x280-fix-lamm-aus-dem-ofen.jpg',\n",
       " 'https://static.chefkoch-cdn.de/ck.de/rezepte/8/8811/685461-420x280-fix-lamm-aus-dem-ofen.jpg',\n",
       " 'https://static.chefkoch-cdn.de/ck.de/rezepte/8/8811/446714-420x280-fix-lamm-aus-dem-ofen.jpg',\n",
       " 'https://static.chefkoch-cdn.de/ck.de/rezepte/8/8811/9292-420x280-fix-lamm_aus_dem_ofen.jpg',\n",
       " 'https://static.chefkoch-cdn.de/ck.de/rezepte/8/8811/244050-420x280-fix-lamm-aus-dem-ofen.jpg',\n",
       " 'https://static.chefkoch-cdn.de/ck.de/rezepte/8/8811/829695-420x280-fix-lamm-aus-dem-ofen.jpg',\n",
       " 'https://static.chefkoch-cdn.de/ck.de/rezepte/8/8811/562781-420x280-fix-lamm-aus-dem-ofen.jpg',\n",
       " 'https://static.chefkoch-cdn.de/ck.de/rezepte/8/8811/770022-420x280-fix-lamm-aus-dem-ofen.jpg',\n",
       " 'https://static.chefkoch-cdn.de/ck.de/rezepte/8/8811/10302-420x280-fix-lamm_aus_dem_ofen.jpg',\n",
       " 'https://static.chefkoch-cdn.de/ck.de/rezepte/8/8811/101105-420x280-fix-lamm-aus-dem-ofen.jpg',\n",
       " 'https://static.chefkoch-cdn.de/ck.de/rezepte/8/8811/446716-420x280-fix-lamm-aus-dem-ofen.jpg']"
      ]
     },
     "execution_count": 347,
     "metadata": {},
     "output_type": "execute_result"
    }
   ],
   "source": [
    "matches_partialid_piclists[('8811','lamm-aus-dem-ofen')]"
   ]
  },
  {
   "cell_type": "code",
   "execution_count": 286,
   "metadata": {},
   "outputs": [
    {
     "data": {
      "text/plain": [
       "['3449791514066439/bratapfel-rotkohl.html',\n",
       " '3449721514056932/fruehstueckswolke-7-aus-fiefhusen.html',\n",
       " '3449701514054063/deichgrafensalat-von-der-westkueste.html',\n",
       " '3449651514047893/geschichteter-kohl.html',\n",
       " '3449681514052511/rinderlendenragout.html',\n",
       " '3449481514034645/blaukraut-mit-butter-maroni.html',\n",
       " '3449641514047091/sauerbraten-la-tick.html',\n",
       " '3449571514042406/punschtorte.html',\n",
       " '3449471514033424/gebackene-oberlaender.html',\n",
       " '3449241513953107/mcmoes-bunter-pasta-topf-allerlei.html']"
      ]
     },
     "execution_count": 286,
     "metadata": {},
     "output_type": "execute_result"
    }
   ],
   "source": [
    "def get_list_of_recipes_id():\n",
    "    recipe_links = []\n",
    "    chef_file = DATAST_FOLDER + 'chefkoch_rezepte_27-12-2017.csv'\n",
    "    with open(chef_file, 'r') as f:\n",
    "        chefkoch = csv.reader(f)\n",
    "        for row in chefkoch:\n",
    "            try:\n",
    "                recipe_links.append(row[-2])\n",
    "            except:\n",
    "                print('ERROR')\n",
    "                continue \n",
    "    return(recipe_links)\n",
    "\n",
    "all_ids = get_list_of_recipes_id()\n",
    "all_ids_clean = []\n",
    "for id in all_ids[1:]: # erste spalte überspringen, es ist der spalten name\n",
    "    all_ids_clean.append(id[32:].lower()) # 'recipe-' extrahieren\n",
    "del all_ids[:]\n",
    "all_ids_clean[:10]\n",
    "\n"
   ]
  },
  {
   "cell_type": "code",
   "execution_count": 348,
   "metadata": {},
   "outputs": [],
   "source": [
    "#create a dict: \n",
    "matches_id_links = {} #key: recipe_id, value: links\n",
    "for ids_title in all_ids_clean:\n",
    "    [f_id,title0]=ids_title.split('/')\n",
    "    for i in range(4,len(f_id)):\n",
    "        if (str(f_id[0:i]),title0[:-5]) in matches_partialid_piclists.keys():\n",
    "            matches_id_links[f_id]=matches_partialid_piclists[(f_id[0:i],title0[:-5])]\n",
    "    \n",
    "    \n",
    "    "
   ]
  },
  {
   "cell_type": "code",
   "execution_count": 293,
   "metadata": {},
   "outputs": [
    {
     "name": "stdout",
     "output_type": "stream",
     "text": [
      "316767\n",
      "107055\n",
      "107055\n",
      "3449791514066439/bratapfel-rotkohl.html\n",
      "['174245', '8811', '32579', '187900', '58201', '80531', '81710', '128961', '95816', '231697', '7308', '133916', '277646', '284016', '49273', '88022', '14505', '30251', '207841', '87456', '135240', '116903', '102994', '199351', '166371', '91676', '219857', '87712', '81696', '80078', '167036', '165322', '172389', '109002', '87702', '144136', '309701', '51828', '258316', '234404', '151802', '196721', '116599', '12235', '69186', '91041', '41974', '154248', '66249', '106164', '48782', '26934', '175891', '193014', '112753', '11248', '219436', '64846', '83464', '174203', '183031', '214071', '96095', '178045', '27595', '230879', '123077', '188481', '197696', '254379', '307566', '173879', '275892', '139845', '182909', '12321', '166337', '234711', '65485', '148583', '7484', '219531', '93932', '102279', '131385', '54159', '272719', '92234', '240494', '27592', '227677', '296916', '279415', '143316', '167217', '221128', '79660', '95026', '95997', '141454']\n",
      "johannisbeer-cupcakes-mit-karamellperlen\n"
     ]
    }
   ],
   "source": [
    "print(len(all_ids_clean))\n",
    "print(len(partial_ids))\n",
    "print(len(title_ids))\n",
    "print(len(matches_id_links))\n",
    "print(all_ids_clean[0])\n",
    "print(partial_ids[0:100])\n",
    "print(title_ids[0])"
   ]
  },
  {
   "cell_type": "code",
   "execution_count": 349,
   "metadata": {},
   "outputs": [],
   "source": [
    "# %%time\n",
    "import json\n",
    "# matches = {} # key: recipe_id , value: pics_list\n",
    "# lost = [] # sichere jede reciped_id wo es keinen match finden konnte => kein match\n",
    "# for i in range(len(title_ids)-1):\n",
    "#     match = [s for s in all_ids_clean if title_ids[i] in s and s.startswith(partial_ids[i])]\n",
    "#     if len(match) == 0: # kein match\n",
    "#         lost.append(i)\n",
    "#         continue\n",
    "#     r_id = match[0].split('/')[0]\n",
    "#     matches[r_id] = links[i]\n",
    "\n",
    "with open('input/test/matches.txt', 'w') as file:\n",
    "    file.write(json.dumps(matches_id_links))\n"
   ]
  },
  {
   "cell_type": "markdown",
   "metadata": {},
   "source": [
    "## Download von 630'770 Bildern"
   ]
  },
  {
   "cell_type": "code",
   "execution_count": 331,
   "metadata": {},
   "outputs": [],
   "source": [
    "from datetime import datetime\n",
    "from time import sleep\n",
    "import urllib.request\n",
    "from multiprocessing import Pool\n",
    "from random import uniform\n",
    "import os"
   ]
  },
  {
   "cell_type": "code",
   "execution_count": 332,
   "metadata": {},
   "outputs": [],
   "source": [
    "# beispiel: recipe-2841831436245733-1.jpg\n",
    "IMG_PATH = 'input/images/search_images/'\n"
   ]
  },
  {
   "cell_type": "code",
   "execution_count": 354,
   "metadata": {},
   "outputs": [
    {
     "name": "stdout",
     "output_type": "stream",
     "text": [
      "96945\n"
     ]
    }
   ],
   "source": [
    "with open('input/test/matches.txt','r') as f:\n",
    "    matches = json.load(f)\n",
    "print(len(matches))\n"
   ]
  },
  {
   "cell_type": "code",
   "execution_count": 333,
   "metadata": {},
   "outputs": [],
   "source": [
    "def get_img_from_dict(i_dict):\n",
    "    for idx, linn in enumerate(i_dict[1]):\n",
    "        try:\n",
    "            img_name = IMG_PATH + 'recipe-' + str(i_dict[0]) + '-' + str(idx+1) + '.jpg'\n",
    "            urllib.request.urlretrieve(linn, img_name)\n",
    "        except:\n",
    "            print('Error:', i_dict[0])\n",
    "    sleep_time = uniform(2., 3.) # schone den server mit anfragen\n",
    "    sleep(sleep_time)"
   ]
  },
  {
   "cell_type": "code",
   "execution_count": 355,
   "metadata": {
    "scrolled": false
   },
   "outputs": [],
   "source": [
    "##not work for notebook \n",
    "# start_time = datetime.now()\n",
    "# print(start_time)\n",
    "\n",
    "# with Pool(20) as p:\n",
    "#     p.map(get_img_from_dict, matches.items())\n",
    "\n",
    "# print(\"--- %s seconds ---\" % (datetime.now() - start_time))"
   ]
  },
  {
   "cell_type": "markdown",
   "metadata": {},
   "source": [
    "Nach fast 5 Stunden sind alle Bilder unter /input/images/search_images/ zu finden. **32.36 GB**\n",
    "### Beispiel:"
   ]
  },
  {
   "cell_type": "code",
   "execution_count": null,
   "metadata": {
    "scrolled": false
   },
   "outputs": [],
   "source": [
    "import os\n",
    "from IPython.display import Image, display\n",
    "PATH = \"input/images/search_images/\"\n",
    "images = []\n",
    "for i in range(1, 10):\n",
    "    images.append(Image(filename = PATH + \"recipe-378801124204434-\"+str(i)+\".jpg\", width=420, height=280))\n",
    "display(*images)"
   ]
  }
 ],
 "metadata": {
  "kernelspec": {
   "display_name": "Python 3 (ipykernel)",
   "language": "python",
   "name": "python3"
  },
  "language_info": {
   "codemirror_mode": {
    "name": "ipython",
    "version": 3
   },
   "file_extension": ".py",
   "mimetype": "text/x-python",
   "name": "python",
   "nbconvert_exporter": "python",
   "pygments_lexer": "ipython3",
   "version": "3.8.13"
  }
 },
 "nbformat": 4,
 "nbformat_minor": 2
}
